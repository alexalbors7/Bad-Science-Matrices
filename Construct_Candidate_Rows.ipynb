{
  "cells": [
    {
      "cell_type": "markdown",
      "source": [
        "## Candidate row creation\n",
        "The notebook creates all potential rows in the optimal matrix for any $n \\in \\mathbb{N}$. Depening on available memory, $n$ should be kept below $5$."
      ],
      "metadata": {
        "id": "LMyd3Ye3htCx"
      }
    },
    {
      "cell_type": "code",
      "execution_count": 1,
      "metadata": {
        "id": "k3W47dLY1YqR"
      },
      "outputs": [],
      "source": [
        "import torch\n",
        "from itertools import combinations, islice, product\n",
        "import numpy as np"
      ]
    },
    {
      "cell_type": "code",
      "execution_count": 4,
      "metadata": {
        "id": "uIttrToQ8Dd0"
      },
      "outputs": [],
      "source": [
        "# Generate binary vectors\n",
        "def vectors(n, binary=False):\n",
        "    if binary:\n",
        "        return torch.tensor(list(product([0, 1], repeat=n)), dtype=torch.float32).T\n",
        "    return torch.tensor(list(product([-1, 1], repeat=n)), dtype=torch.float32).T\n",
        "\n",
        "# Currently I have rows that appear twice up to a sign change, so this funciton deletes those.\n",
        "def fix_row_signs(tensor):\n",
        "    # Iterate over each row\n",
        "    normalized_tensor = []\n",
        "    for row in tensor:\n",
        "        # Find the first non-zero element for sign determination\n",
        "        first_non_zero_index = (row != 0).nonzero(as_tuple=True)[0][0]\n",
        "        sign = torch.sign(row[first_non_zero_index])\n",
        "        normalized_row = row * sign\n",
        "        normalized_tensor.append(normalized_row)\n",
        "    normalized_tensor = torch.stack(normalized_tensor)\n",
        "    # Now return the unique ones.\n",
        "    return torch.unique(normalized_tensor, dim=0)\n",
        "\n",
        "# Generates all possible rows appearing in the optimal matrix. Now it's a matter of checking all row combinations.\n",
        "def candidate_rows(n):\n",
        "  # Each row represents a subset\n",
        "  binary_choices = vectors(2**n, binary=True).T\n",
        "\n",
        "  # Sums over chosen subset to yield all candidate, unnormalized rows\n",
        "  rows = torch.matmul(binary_choices, vectors(n).T)\n",
        "\n",
        "  print(f\"Start: {rows.shape[0]} rows\")\n",
        "\n",
        "  # Compute their norms\n",
        "  row_norms = torch.norm(rows, dim=1, keepdim=True)\n",
        "\n",
        "  # Normalize rows\n",
        "  normalized_rows_with_nans = rows/row_norms\n",
        "\n",
        "  # During normalization, some choices add up to 0, so after normalizing we obtain all nan values\n",
        "  # We thus slice the tensor to remove nan rows\n",
        "  normalized_rows = normalized_rows_with_nans[~torch.all(normalized_rows_with_nans.isnan(), dim = 1)]\n",
        "\n",
        "  print(f\"Remove zero rows: {normalized_rows.shape[0]} rows left\")\n",
        "\n",
        "  # Remove redundant rows (no need to try them twice!)\n",
        "  unique_normalized_rows = torch.unique(normalized_rows, dim=0)\n",
        "\n",
        "  print(f\"Remove redundant rows: {unique_normalized_rows.shape[0]} rows left\")\n",
        "  # We can also remove rows that are equal up to a row-wise sign change.\n",
        "  final_rows = fix_row_signs(unique_normalized_rows)\n",
        "\n",
        "  print(f\"Remove rows up to sign: {final_rows.shape[0]} final rows\")\n",
        "  return final_rows"
      ]
    },
    {
      "cell_type": "code",
      "source": [
        "rows = candidate_rows(4)"
      ],
      "metadata": {
        "colab": {
          "base_uri": "https://localhost:8080/"
        },
        "id": "f5yvB6JKVviI",
        "outputId": "4ccbaadc-b2a6-471e-bf8b-6c2766866125"
      },
      "execution_count": 5,
      "outputs": [
        {
          "output_type": "stream",
          "name": "stdout",
          "text": [
            "Start: 65536 rows\n",
            "Remove zero rows: 64888 rows left\n",
            "Remove redundant rows: 1360 rows left\n",
            "Remove rows up to sign: 680 final rows\n"
          ]
        }
      ]
    }
  ],
  "metadata": {
    "colab": {
      "provenance": []
    },
    "kernelspec": {
      "display_name": "Python 3",
      "name": "python3"
    },
    "language_info": {
      "name": "python"
    }
  },
  "nbformat": 4,
  "nbformat_minor": 0
}